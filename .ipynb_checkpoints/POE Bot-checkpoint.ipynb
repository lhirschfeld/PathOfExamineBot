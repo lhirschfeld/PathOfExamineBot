{
 "cells": [
  {
   "cell_type": "code",
   "execution_count": 222,
   "metadata": {
    "collapsed": false
   },
   "outputs": [],
   "source": [
    "import re\n",
    "import requests\n",
    "import praw\n",
    "import pickle\n",
    "import itertools\n",
    "from bs4 import BeautifulSoup\n",
    "from time import sleep"
   ]
  },
  {
   "cell_type": "code",
   "execution_count": 183,
   "metadata": {
    "collapsed": false
   },
   "outputs": [
    {
     "name": "stdout",
     "output_type": "stream",
     "text": [
      "Hello'S\n"
     ]
    }
   ],
   "source": [
    "s = \"Hello's\"\n",
    "print(s.title())"
   ]
  },
  {
   "cell_type": "code",
   "execution_count": 203,
   "metadata": {
    "collapsed": false
   },
   "outputs": [
    {
     "data": {
      "text/plain": [
       "['FOX', 'FOx', 'FoX', 'Fox', 'fOX', 'fOx', 'foX', 'fox']"
      ]
     },
     "execution_count": 203,
     "metadata": {},
     "output_type": "execute_result"
    }
   ],
   "source": [
    "s = 'Fox'\n"
   ]
  },
  {
   "cell_type": "code",
   "execution_count": 223,
   "metadata": {
    "collapsed": false
   },
   "outputs": [
    {
     "name": "stdout",
     "output_type": "stream",
     "text": [
      "['No Way Lol', 'No Way lol', 'No way Lol', 'No way lol', 'no Way Lol', 'no Way lol', 'no way Lol', 'no way lol']\n"
     ]
    }
   ],
   "source": [
    "lis = [\"no\", \"way\", \"lol\"]\n",
    "s = list(map(' '.join, itertools.product(*((c[0].upper() + c[1:], c) for c in lis))))\n",
    "print(s)"
   ]
  },
  {
   "cell_type": "code",
   "execution_count": 224,
   "metadata": {
    "collapsed": false
   },
   "outputs": [],
   "source": [
    "m = re.compile(r\"\\[\\[[^\\]]*\\]\\]\")\n",
    "\n",
    "def supers(text):\n",
    "    response = \" \"\n",
    "    split = text.split()\n",
    "    for i in range(len(split)):\n",
    "        if i != 0:\n",
    "            response += \" \"\n",
    "        response += \"^\" + split[i]\n",
    "    return response\n",
    "\n",
    "def findItem(name):\n",
    "    name = name.replace(\"'\",\"%27\").split()\n",
    "    nameLen = len(name)\n",
    "    for i in range(len(name)):\n",
    "        test = itemLookup(name[:nameLen-i])\n",
    "        if test != \"\":\n",
    "            return test\n",
    "            \n",
    "    return \"\"\n",
    "def itemLookup(name):\n",
    "    # Try a URL\n",
    "    possibleURLs = list(map('_'.join, itertools.product(*((c[0].upper() + c[1:].lower(), c.lower()) for c in name))))\n",
    "    for possibleURL in possibleURLs:\n",
    "        print(possibleURL)\n",
    "        r = requests.get(\"http://www.pathofexile.gamepedia.com/\" + possibleURL)\n",
    "        if r.status_code != 404:\n",
    "            break\n",
    "    if r.status_code == 404:\n",
    "        return \"\"\n",
    "    \n",
    "    soup = BeautifulSoup(r.text, \"html.parser\")\n",
    "    itemspan = soup.find(\"span\", { \"class\" : \"infobox-page-container\"})\n",
    "    \n",
    "    # Break if an invalid page has been reached\n",
    "    if not itemspan:\n",
    "        return \"\"\n",
    "    \n",
    "    itemspan = itemspan.find(\"span\", { \"class\" : \"item-box\" })\n",
    "    \n",
    "    # Get item title\n",
    "    itemTitleRaw = itemspan.find(\"span\", { \"class\" : \"header\"}).children\n",
    "    itemTitle = \"\"\n",
    "    for item in itemTitleRaw:\n",
    "        if item.string:\n",
    "            itemTitle += item.string + \" \"\n",
    "    itemTitle = itemTitle[:-1]\n",
    "            \n",
    "    # Get item stats\n",
    "    itemStats = itemspan.find(\"span\", { \"class\" : \"item-stats\"}).find(\"span\")\n",
    "    \n",
    "    # Get item mods\n",
    "    itemMods = itemspan.findAll(\"span\", { \"class\" : \"-mod\"})\n",
    "            \n",
    "    # Get image URL\n",
    "    itemURL = itemspan.findAll(\"a\", { \"class\" : \"image\"})[0].img[\"src\"]\n",
    "    \n",
    "    \n",
    "    # Print\n",
    "    response = \"\"\n",
    "    response += \"[**\" + itemTitle + \"**](\" + itemURL + \")\"\n",
    "    response += \"[[Wiki]](http://www.pathofexile.gamepedia.com/\" + possibleURL + \")\\n\\n\"\n",
    "    \n",
    "    # Print Stats\n",
    "\n",
    "    for item in itemStats.children:\n",
    "        try:\n",
    "            temp = \"\"\n",
    "            for child in item.children:\n",
    "                if child.string:\n",
    "                    temp += supers(child.string)\n",
    "            response += temp\n",
    "            if temp == \"\":\n",
    "                response += \" ^| \"\n",
    "        except:\n",
    "            response += supers(item)\n",
    "    response += \"\\n\\n\"\n",
    "    \n",
    "    #Print Mods\n",
    "    for i in range(len(itemMods)):\n",
    "        for item in itemMods[i].children:\n",
    "            if item.string:\n",
    "                if len(itemMods) == 2 and i == 0:\n",
    "                    response += \"*\" + item.string + \"*\"\n",
    "                else:\n",
    "                    response += item.string\n",
    "            else:\n",
    "                response += \"\\n\\n\"\n",
    "        response += \"\\n\\n\"\n",
    "\n",
    "    return response"
   ]
  },
  {
   "cell_type": "code",
   "execution_count": 39,
   "metadata": {
    "collapsed": false,
    "scrolled": false
   },
   "outputs": [],
   "source": [
    "findItem(\"sorcerer boots bob\")"
   ]
  },
  {
   "cell_type": "code",
   "execution_count": 100,
   "metadata": {
    "collapsed": false
   },
   "outputs": [],
   "source": [
    "r = praw.Reddit('bot1')"
   ]
  },
  {
   "cell_type": "code",
   "execution_count": 229,
   "metadata": {
    "collapsed": false
   },
   "outputs": [],
   "source": [
    "def respond(lim, rate):\n",
    "    with open('ids.pickle', 'rb') as handle:\n",
    "        ids = pickle.load(handle)\n",
    "    while True:\n",
    "        subreddit = r.subreddit(\"test\")\n",
    "        for submission in subreddit.new(limit=lim):\n",
    "            comment_queue = submission.comments[:]\n",
    "            while comment_queue:\n",
    "                com = comment_queue.pop(0)\n",
    "                if \"[[\" in com.body and \"]]\" in com.body and com.id not in ids:\n",
    "                    ids.append(com.id)\n",
    "                    print(\"Found Comment:\" + com.id)\n",
    "                    reply = \"\"\n",
    "                    for item in m.findall(com.body)[:10]:\n",
    "                        temp = findItem(item[2:-2])\n",
    "                        reply += temp\n",
    "                        if temp != \"\":\n",
    "                            reply += \"\\n\\n---------\\n\\n\"\n",
    "                    if reply != \"\":\n",
    "                        reply += \"I am a bot. Reply to me with up to 7 [[item names]].\"\n",
    "                        com.reply(reply)\n",
    "                    else:\n",
    "                        print(\"False Reply ^\")\n",
    "                comment_queue.extend(com.replies)\n",
    "        with open('ids.pickle', 'wb') as handle:\n",
    "            pickle.dump(ids, handle, protocol=pickle.HIGHEST_PROTOCOL)\n",
    "        sleep(rate)"
   ]
  },
  {
   "cell_type": "code",
   "execution_count": null,
   "metadata": {
    "collapsed": false
   },
   "outputs": [
    {
     "name": "stdout",
     "output_type": "stream",
     "text": [
      "Found Comment:dbjcylw\n",
      "Essence_Of_Horror\n",
      "Essence_Of_horror\n"
     ]
    }
   ],
   "source": [
    "respond(50, 30)"
   ]
  },
  {
   "cell_type": "code",
   "execution_count": null,
   "metadata": {
    "collapsed": true
   },
   "outputs": [],
   "source": []
  }
 ],
 "metadata": {
  "kernelspec": {
   "display_name": "Python [Root]",
   "language": "python",
   "name": "Python [Root]"
  },
  "language_info": {
   "codemirror_mode": {
    "name": "ipython",
    "version": 3
   },
   "file_extension": ".py",
   "mimetype": "text/x-python",
   "name": "python",
   "nbconvert_exporter": "python",
   "pygments_lexer": "ipython3",
   "version": "3.5.2"
  }
 },
 "nbformat": 4,
 "nbformat_minor": 0
}
