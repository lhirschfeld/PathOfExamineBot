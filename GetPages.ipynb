{
 "cells": [
  {
   "cell_type": "code",
   "execution_count": 5,
   "metadata": {
    "collapsed": false
   },
   "outputs": [],
   "source": [
    "import pickle\n",
    "import requests\n",
    "from bs4 import BeautifulSoup"
   ]
  },
  {
   "cell_type": "code",
   "execution_count": 59,
   "metadata": {
    "collapsed": true
   },
   "outputs": [],
   "source": [
    "def getPages():\n",
    "    pages = dict()\n",
    "    def getSet(url):\n",
    "        r = requests.get('http://www.pathofexile.gamepedia.com' + url)\n",
    "        soup = BeautifulSoup(r.content, 'html.parser')\n",
    "        allPages = soup.find(\"div\", { \"class\" : \"mw-allpages-body\"})\n",
    "        links = allPages.findAll(\"li\")\n",
    "        for link in links:\n",
    "            aTag = link.find(\"a\")\n",
    "            pages[str(aTag.string)] = aTag[\"href\"]\n",
    "        nav = soup.find(\"div\", { \"class\" : \"mw-allpages-nav\"})\n",
    "        for link in nav.findAll(\"a\"):\n",
    "            print(\"Found Page\")\n",
    "            if \"Next page\" in link.string:\n",
    "                return link[\"href\"]\n",
    "        return None\n",
    "    \n",
    "    url = \"/Special:AllPages\"\n",
    "    while url:\n",
    "        url = getSet(url)\n",
    "    with open('pages.pickle', 'wb') as handle:\n",
    "        pickle.dump(pages, handle)"
   ]
  },
  {
   "cell_type": "code",
   "execution_count": 60,
   "metadata": {
    "collapsed": false
   },
   "outputs": [
    {
     "name": "stdout",
     "output_type": "stream",
     "text": [
      "Found Page\n",
      "Found Page\n",
      "Found Page\n",
      "Found Page\n",
      "Found Page\n",
      "Found Page\n",
      "Found Page\n",
      "Found Page\n",
      "Found Page\n",
      "Found Page\n",
      "Found Page\n",
      "Found Page\n",
      "Found Page\n",
      "Found Page\n",
      "Found Page\n",
      "Found Page\n",
      "Found Page\n",
      "Found Page\n",
      "Found Page\n",
      "Found Page\n",
      "Found Page\n",
      "Found Page\n",
      "Found Page\n",
      "Found Page\n",
      "Found Page\n",
      "Found Page\n",
      "Found Page\n",
      "Found Page\n",
      "Found Page\n",
      "Found Page\n",
      "Found Page\n",
      "Found Page\n",
      "Found Page\n",
      "Found Page\n",
      "Found Page\n",
      "Found Page\n",
      "Found Page\n",
      "Found Page\n",
      "Found Page\n",
      "Found Page\n",
      "Found Page\n",
      "Found Page\n",
      "Found Page\n",
      "Found Page\n",
      "Found Page\n",
      "Found Page\n",
      "Found Page\n",
      "Found Page\n"
     ]
    }
   ],
   "source": [
    "getPages()"
   ]
  }
 ],
 "metadata": {
  "kernelspec": {
   "display_name": "Python [Root]",
   "language": "python",
   "name": "Python [Root]"
  },
  "language_info": {
   "codemirror_mode": {
    "name": "ipython",
    "version": 3
   },
   "file_extension": ".py",
   "mimetype": "text/x-python",
   "name": "python",
   "nbconvert_exporter": "python",
   "pygments_lexer": "ipython3",
   "version": "3.5.2"
  }
 },
 "nbformat": 4,
 "nbformat_minor": 0
}
